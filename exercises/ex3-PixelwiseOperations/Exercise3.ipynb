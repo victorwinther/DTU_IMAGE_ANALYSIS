{
 "cells": [
  {
   "cell_type": "markdown",
   "metadata": {},
   "source": [
    "# Exercise 3 - Pixel wise operations"
   ]
  },
  {
   "attachments": {},
   "cell_type": "markdown",
   "metadata": {},
   "source": [
    "**TA comment**: The visualization of the images can be done through different Python libraries, such as` matplotlib` or `skimage`. Although similar, they may have different default behaviour. In this solution, `matplotlib` is used.\n",
    "\n",
    "Be aware that default behaviour of `matplotlib.pyplot.imshow()` is to use the dynamic range of the image values to plot the image. It is, if the image intensities range from [26, 173], the white color is assigned to 26 and the black to 173. Meanwhile, `skimage.io.imshow()` displays the dynamic range according to the image type, [0, 255] for integer images and [0., 1.] for float images."
   ]
  },
  {
   "cell_type": "code",
   "execution_count": null,
   "metadata": {},
   "outputs": [],
   "source": [
    "from skimage import io\n",
    "import matplotlib.pyplot as plt\n",
    "import numpy as np\n",
    "\n",
    "%matplotlib inline"
   ]
  },
  {
   "cell_type": "markdown",
   "metadata": {},
   "source": [
    "## Explorative data analysis"
   ]
  },
  {
   "cell_type": "markdown",
   "metadata": {},
   "source": [
    "### Exercise 1\n",
    "Start by reading the image and inspect the histogram. Is it a bimodal histogram? Do you think it will be possible to segment it so only the bones are visible?"
   ]
  },
  {
   "cell_type": "code",
   "execution_count": null,
   "metadata": {},
   "outputs": [],
   "source": [
    "# Directory containing data and images\n",
    "in_dir = \"data/\"\n",
    "im_name = \"vertebra.png\"\n",
    "im_org = io.imread(in_dir + im_name)"
   ]
  },
  {
   "cell_type": "code",
   "execution_count": null,
   "metadata": {},
   "outputs": [],
   "source": [
    "nbins = 256\n",
    "\n",
    "fig, ax = plt.subplots(nrows=1, ncols = 2, figsize = (12, 5))\n",
    "ax[0].imshow(im_org, cmap = 'gray', vmin = 0, vmax = 255)\n",
    "ax[0].set_title('Image')\n",
    "\n",
    "ax[1].hist(im_org.ravel(), bins=nbins)\n",
    "ax[1].set_title('Image histogram')\n",
    "ax[1].set_xlabel('Intensities')\n",
    "ax[1].set_ylabel('Frequency')\n",
    "plt.show()"
   ]
  },
  {
   "cell_type": "markdown",
   "metadata": {},
   "source": [
    "### Exercise 2\n",
    "Compute the minimum and maximum values of the image. Is the full scale of the gray-scale spectrum used or can we enhance the appearance of the image?"
   ]
  },
  {
   "cell_type": "code",
   "execution_count": null,
   "metadata": {},
   "outputs": [],
   "source": [
    "min = im_org.min()\n",
    "max = im_org.max()\n",
    "print(f\"Min value: {min} \\t Max value: {max}\")"
   ]
  },
  {
   "cell_type": "code",
   "execution_count": null,
   "metadata": {},
   "outputs": [],
   "source": [
    "fig, ax = plt.subplots(nrows=1, ncols = 2, figsize = (12, 5))\n",
    "ax[0].imshow(im_org, vmin = 0, vmax = 255, cmap = 'gray')\n",
    "ax[0].set_title('Visualization window: [0, 255]')\n",
    "ax[1].imshow(im_org, vmin = min, vmax = max, cmap = 'gray') # Here, we change the visualization window, not the image itself!\n",
    "ax[1].set_title(f'Visualization window: [{min}, {max}]')\n",
    "plt.show()"
   ]
  },
  {
   "cell_type": "markdown",
   "metadata": {},
   "source": [
    "## Pixel type conversions"
   ]
  },
  {
   "cell_type": "markdown",
   "metadata": {},
   "source": [
    "### Exercise 3 - Unsigned byte to float image"
   ]
  },
  {
   "cell_type": "code",
   "execution_count": null,
   "metadata": {},
   "outputs": [],
   "source": [
    "from skimage.util import img_as_float\n",
    "from skimage.util import img_as_ubyte"
   ]
  },
  {
   "cell_type": "code",
   "execution_count": null,
   "metadata": {},
   "outputs": [],
   "source": [
    "im_float = img_as_float(im_org)\n",
    "min = im_float.min()\n",
    "max = im_float.max()\n",
    "print(f\"Min value: {min} \\t Max value: {max}\")\n",
    "\n",
    "# Can you verify that the float image is equal to the original image, where each pixel value is divided by 255?\n",
    "all_equal = np.allclose(im_org, im_float*255)\n",
    "print(f'The float and the original image are equivalent?: {all_equal}')"
   ]
  },
  {
   "cell_type": "markdown",
   "metadata": {},
   "source": []
  },
  {
   "cell_type": "markdown",
   "metadata": {},
   "source": [
    "### Exercise 4 - Float to unsigned byte"
   ]
  },
  {
   "cell_type": "code",
   "execution_count": null,
   "metadata": {},
   "outputs": [],
   "source": [
    "im_ubyte = img_as_ubyte(im_float)\n",
    "min, max = im_ubyte.min(), im_ubyte.max()\n",
    "print(f\"Min value: {min} \\t Max value: {max}\")"
   ]
  },
  {
   "cell_type": "markdown",
   "metadata": {},
   "source": [
    "## Histogram stretching"
   ]
  },
  {
   "cell_type": "markdown",
   "metadata": {},
   "source": [
    "### Exercise 5"
   ]
  },
  {
   "cell_type": "code",
   "execution_count": null,
   "metadata": {},
   "outputs": [],
   "source": [
    "def histogram_stretch(img_in):\n",
    "    \"\"\"\n",
    "    Stretches the histogram of an image \n",
    "    :param img_in: Input image\n",
    "    :return: Image, where the histogram is stretched so the min values is 0 and the maximum value 255\n",
    "    \"\"\"\n",
    "    # img_as_float will divide all pixel values with 255.0\n",
    "    img_float = img_as_float(img_in)\n",
    "    min_val = img_float.min()\n",
    "    max_val = img_float.max()\n",
    "    min_desired = 0.0\n",
    "    max_desired = 1.0\n",
    "\t\n",
    "    # Do something here\n",
    "    img_out = ((img_float-min_val)*(max_desired-min_desired)/(max_val-min_val))+min_desired\n",
    "    # img_as_ubyte will multiply all pixel values with 255.0 before converting to unsigned byte\n",
    "    return img_as_ubyte(img_out)"
   ]
  },
  {
   "cell_type": "markdown",
   "metadata": {},
   "source": [
    "### Exercise 6"
   ]
  },
  {
   "cell_type": "code",
   "execution_count": null,
   "metadata": {},
   "outputs": [],
   "source": [
    "im_stretched = histogram_stretch(im_org)\n",
    "\n",
    "fig, ax = plt.subplots(nrows=1, ncols = 2, figsize = (12, 5))\n",
    "ax[0].imshow(im_org, cmap = 'gray', vmin = 0, vmax = 255)\n",
    "ax[0].set_title('Original image')\n",
    "ax[1].imshow(im_stretched, cmap = 'gray', vmin = 0, vmax = 255)\n",
    "ax[1].set_title('Stretched image')\n",
    "plt.show()"
   ]
  },
  {
   "cell_type": "markdown",
   "metadata": {},
   "source": [
    "## Non-linear pixel value mapping"
   ]
  },
  {
   "cell_type": "markdown",
   "metadata": {},
   "source": [
    "### Exercise 7"
   ]
  },
  {
   "cell_type": "code",
   "execution_count": null,
   "metadata": {},
   "outputs": [],
   "source": [
    "def gamma_map(img_in, gamma):\n",
    "    \"\"\"\n",
    "    Stretches the histogram of an image \n",
    "    :param img_in: Input image\n",
    "    :param gamma: Exponent\n",
    "    :return: Gamma-mapped image\n",
    "    \"\"\"\n",
    "    img_float = img_as_float(img_in)\n",
    "    img_out = np.power(img_float, gamma)\n",
    "    return img_as_ubyte(img_out)"
   ]
  },
  {
   "cell_type": "markdown",
   "metadata": {},
   "source": [
    "### Exercise 8"
   ]
  },
  {
   "cell_type": "code",
   "execution_count": null,
   "metadata": {},
   "outputs": [],
   "source": [
    "gamma_0_5 = gamma_map(im_org, 0.5)\n",
    "gamma_2 = gamma_map(im_org, 2)\n",
    "\n",
    "fig, ax = plt.subplots(nrows=1, ncols = 3, figsize = (12, 5))\n",
    "ax[0].imshow(im_org, cmap = 'gray', vmin=0, vmax=255)\n",
    "ax[0].set_title('Original image')\n",
    "ax[1].imshow(gamma_0_5, cmap = 'gray', vmin=0, vmax=255)\n",
    "ax[1].set_title(r'$\\gamma = 0.5$')\n",
    "ax[2].imshow(gamma_2, cmap = 'gray', vmin=0, vmax=255)\n",
    "ax[2].set_title(r'$\\gamma = 2$')\n",
    "plt.show()"
   ]
  },
  {
   "cell_type": "markdown",
   "metadata": {},
   "source": [
    "## Image segmentation by thresholding"
   ]
  },
  {
   "cell_type": "markdown",
   "metadata": {},
   "source": [
    "### Exercise 9"
   ]
  },
  {
   "cell_type": "code",
   "execution_count": null,
   "metadata": {},
   "outputs": [],
   "source": [
    "def threshold_image(img_in, thres):\n",
    "    \"\"\"\n",
    "    Apply a threshold in an image and return the resulting image\n",
    "    :param img_in: Input image\n",
    "    :param thres: The treshold value in the range [0, 255]\n",
    "    :return: Resulting image (unsigned byte) where background is 0 and foreground is 255\n",
    "    \"\"\"\n",
    "    mask = img_in > thres\n",
    "    return img_as_ubyte(mask)"
   ]
  },
  {
   "cell_type": "markdown",
   "metadata": {},
   "source": [
    "### Exercise 10"
   ]
  },
  {
   "cell_type": "code",
   "execution_count": null,
   "metadata": {},
   "outputs": [],
   "source": [
    "im_thres = threshold_image(im_org, thres = 110)\n",
    "\n",
    "fig, ax = plt.subplots(nrows=1, ncols = 3, figsize = (12, 5))\n",
    "ax[0].imshow(im_org, cmap = 'gray', vmin = 0, vmax = 255)\n",
    "ax[0].set_title('Original image')\n",
    "ax[1].imshow(im_thres, cmap = 'gray', vmin = 0, vmax = 255)\n",
    "ax[1].set_title('Foreground image')\n",
    "ax[2].imshow(im_org, cmap = 'gray', vmin = 0, vmax = 255)\n",
    "ax[2].contour(im_thres, [254, 256])\n",
    "ax[2].set_title('Mask contour')\n",
    "plt.show()"
   ]
  },
  {
   "cell_type": "markdown",
   "metadata": {},
   "source": [
    "### Exercise 11"
   ]
  },
  {
   "cell_type": "code",
   "execution_count": null,
   "metadata": {},
   "outputs": [],
   "source": [
    "from skimage.filters import threshold_otsu\n",
    "\n",
    "thres_new = threshold_otsu(im_org)\n",
    "im_thres = threshold_image(im_org, thres = thres_new)\n",
    "\n",
    "fig, ax = plt.subplots(nrows=1, ncols = 3, figsize = (12, 5))\n",
    "ax[0].imshow(im_org, cmap = 'gray', vmin = 0, vmax = 255)\n",
    "ax[0].set_title('Original image')\n",
    "ax[1].imshow(im_thres, cmap = 'gray', vmin = 0, vmax = 255)\n",
    "ax[1].set_title(f'Foreground image [thres = {thres_new}]')\n",
    "ax[2].imshow(im_org, cmap = 'gray', vmin = 0, vmax = 255)\n",
    "ax[2].contour(im_thres, [254, 256])\n",
    "ax[2].set_title('Mask contour')\n",
    "plt.show()"
   ]
  },
  {
   "cell_type": "markdown",
   "metadata": {},
   "source": [
    "### Exercise 12"
   ]
  },
  {
   "cell_type": "code",
   "execution_count": null,
   "metadata": {},
   "outputs": [],
   "source": [
    "from skimage.color import rgb2gray\n",
    "\n",
    "im_name = \"dark_background.png\"\n",
    "im_org = io.imread(in_dir + im_name)\n",
    "\n",
    "im_org = img_as_float(im_org)\n",
    "im_gray = img_as_ubyte(rgb2gray(im_org))\n",
    "\n",
    "thres = 5\n",
    "im_thres = threshold_image(im_gray, thres = thres)\n",
    "\n",
    "fig, ax = plt.subplots(nrows=1, ncols = 2, figsize = (12, 5))\n",
    "ax[0].imshow(im_gray, cmap = 'gray', vmin = 0, vmax = 255)\n",
    "ax[0].set_title('Original image')\n",
    "ax[1].imshow(im_thres, cmap = 'gray', vmin = 0, vmax = 255)\n",
    "ax[1].set_title(f'Silhouette')\n",
    "plt.show()"
   ]
  },
  {
   "cell_type": "markdown",
   "metadata": {},
   "source": [
    "## Color thresholding in the RGB color space"
   ]
  },
  {
   "cell_type": "markdown",
   "metadata": {},
   "source": [
    "### Exercise 13"
   ]
  },
  {
   "cell_type": "code",
   "execution_count": null,
   "metadata": {},
   "outputs": [],
   "source": [
    "# Change the backend to be able to explore the pixel intensities\n",
    "# For VSCode Notebooks and JupyterNotebook \"%matplotlib widget\"\n",
    "# For Spyder \"%matplotlib auto\"\n",
    "\n",
    "%matplotlib widget \n",
    "\n",
    "im_name = \"DTUSigns2.jpg\"\n",
    "im_org = io.imread(in_dir + im_name)\n",
    "\n",
    "fig, ax = plt.subplots(nrows = 1, ncols = 1, figsize = (5,5))\n",
    "ax.imshow(im_org)\n",
    "plt.show()"
   ]
  },
  {
   "cell_type": "markdown",
   "metadata": {},
   "source": [
    "### Exercise 14"
   ]
  },
  {
   "cell_type": "code",
   "execution_count": null,
   "metadata": {},
   "outputs": [],
   "source": [
    "%matplotlib inline \n",
    "\n",
    "def detect_dtu_signs(img_in, sign):\n",
    "    r_comp = img_in[:, :, 0]\n",
    "    g_comp = img_in[:, :, 1]\n",
    "    b_comp = img_in[:, :, 2]\n",
    "\n",
    "    if sign == 'red':\n",
    "        segm = (r_comp > 160) & (r_comp < 180) & (g_comp > 50) & (g_comp < 80) & \\\n",
    "                    (b_comp > 50) & (b_comp < 80)\n",
    "    if sign == 'blue':\n",
    "        segm = (r_comp < 10) & (g_comp > 85) & (g_comp < 105) & \\\n",
    "                    (b_comp > 180) & (b_comp < 200)\n",
    "\n",
    "    return img_as_ubyte(segm)\n",
    "\n",
    "img_red = detect_dtu_signs(im_org, 'red')\n",
    "fig, ax = plt.subplots(nrows = 1, ncols = 2, figsize = (10, 5))\n",
    "ax[0].imshow(im_org)\n",
    "ax[0].set_title('Original')\n",
    "ax[1].imshow(img_red, vmin = 0, vmax = 255, cmap = 'gray')\n",
    "ax[1].set_title('Red sign')\n",
    "plt.show()"
   ]
  },
  {
   "cell_type": "markdown",
   "metadata": {},
   "source": [
    "## Color thresholding in the HSV color space"
   ]
  },
  {
   "cell_type": "markdown",
   "metadata": {},
   "source": [
    "### Exercise 15"
   ]
  },
  {
   "cell_type": "code",
   "execution_count": null,
   "metadata": {},
   "outputs": [],
   "source": [
    "from skimage import color"
   ]
  },
  {
   "cell_type": "code",
   "execution_count": null,
   "metadata": {},
   "outputs": [],
   "source": [
    "%matplotlib widget \n",
    "\n",
    "hsv_img = color.rgb2hsv(im_org)\n",
    "hue_img = hsv_img[:, :, 0]\n",
    "value_img = hsv_img[:, :, 2]\n",
    "fig, (ax0, ax1, ax2) = plt.subplots(ncols=3, figsize=(8, 2))\n",
    "ax0.imshow(im_org)\n",
    "ax0.set_title(\"RGB image\")\n",
    "ax0.axis('off')\n",
    "ax1.imshow(hue_img, cmap='hsv')\n",
    "ax1.set_title(\"Hue channel\")\n",
    "ax1.axis('off')\n",
    "ax2.imshow(value_img)\n",
    "ax2.set_title(\"Value channel\")\n",
    "ax2.axis('off')\n",
    "\n",
    "fig.tight_layout()\n",
    "io.show()"
   ]
  },
  {
   "cell_type": "code",
   "execution_count": null,
   "metadata": {},
   "outputs": [],
   "source": [
    "%matplotlib inline \n",
    "\n",
    "segm_blue = (hue_img < 0.6) & (hue_img  > 0.4) & (value_img < 0.77) & (value_img > 0.70)\n",
    "segm_red = (hue_img < 1.0) & (hue_img  > 0.9)\n",
    "\n",
    "fig, (ax1, ax2) = plt.subplots(1,2,figsize = (10,5))\n",
    "ax1.imshow(segm_blue, cmap = 'gray')\n",
    "ax1.set_title('DTU sign image (Blue)')\n",
    "\n",
    "ax2.imshow(segm_red, cmap = 'gray')\n",
    "ax2.set_title('DTU sign image (Red)')\n",
    "plt.show()"
   ]
  },
  {
   "cell_type": "markdown",
   "metadata": {},
   "source": [
    "## Real time pixel-wise operations on videos\n",
    "\n",
    "Press `q` to exit the scripts from exercises 16-18."
   ]
  },
  {
   "cell_type": "markdown",
   "metadata": {},
   "source": [
    "### Exercise 16"
   ]
  },
  {
   "cell_type": "code",
   "execution_count": null,
   "metadata": {},
   "outputs": [],
   "source": [
    "!python Ex3-VideoPixelWiseOperations.py"
   ]
  },
  {
   "cell_type": "markdown",
   "metadata": {},
   "source": [
    "### Exercise 17"
   ]
  },
  {
   "cell_type": "code",
   "execution_count": null,
   "metadata": {},
   "outputs": [],
   "source": [
    "!python Ex3-Ex17.py"
   ]
  },
  {
   "cell_type": "markdown",
   "metadata": {},
   "source": [
    "### Exercise 18"
   ]
  },
  {
   "cell_type": "code",
   "execution_count": null,
   "metadata": {},
   "outputs": [],
   "source": [
    "!python Ex3-Ex18.py"
   ]
  }
 ],
 "metadata": {
  "kernelspec": {
   "display_name": "course02502",
   "language": "python",
   "name": "python3"
  },
  "language_info": {
   "codemirror_mode": {
    "name": "ipython",
    "version": 3
   },
   "file_extension": ".py",
   "mimetype": "text/x-python",
   "name": "python",
   "nbconvert_exporter": "python",
   "pygments_lexer": "ipython3",
   "version": "3.11.0"
  },
  "vscode": {
   "interpreter": {
    "hash": "aaa37d571780f8e299c57f2240e07ee74169eb0295e974283a771ca95e4c15b5"
   }
  }
 },
 "nbformat": 4,
 "nbformat_minor": 2
}

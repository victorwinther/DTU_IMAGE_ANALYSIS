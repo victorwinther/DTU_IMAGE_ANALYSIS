{
 "cells": [
  {
   "attachments": {},
   "cell_type": "markdown",
   "metadata": {},
   "source": [
    "# Exercise 8 - Cats, Cats, Cats"
   ]
  },
  {
   "cell_type": "code",
   "execution_count": null,
   "metadata": {},
   "outputs": [],
   "source": [
    "from skimage import io\n",
    "from skimage.util import img_as_ubyte\n",
    "import matplotlib.pyplot as plt\n",
    "import numpy as np\n",
    "import glob\n",
    "from sklearn.decomposition import PCA\n",
    "from skimage.transform import SimilarityTransform\n",
    "from skimage.transform import warp\n",
    "import os\n",
    "import pathlib\n",
    "\n",
    "from auxiliaryFuns import *"
   ]
  },
  {
   "attachments": {},
   "cell_type": "markdown",
   "metadata": {},
   "source": [
    "**Exercise 1:** *Preprocess all image in the training set. To do the preprocessing, you can use the code snippets supplied*"
   ]
  },
  {
   "cell_type": "code",
   "execution_count": null,
   "metadata": {},
   "outputs": [],
   "source": [
    "raw_dir = \"data/training_data_small/\"\n",
    "preprocess_dir = \"data/preprocessed_data_small/\"\n",
    "\n",
    "os.makedirs(preprocess_dir, exist_ok=True)\n",
    "preprocess_all_cats(raw_dir, preprocess_dir)"
   ]
  },
  {
   "attachments": {},
   "cell_type": "markdown",
   "metadata": {},
   "source": [
    "## Gathering data into a data matrix"
   ]
  },
  {
   "cell_type": "markdown",
   "metadata": {},
   "source": [
    "\n",
    "**Exercise 2:** *Compute the data matrix.* \n"
   ]
  },
  {
   "cell_type": "code",
   "execution_count": null,
   "metadata": {},
   "outputs": [],
   "source": [
    "files = glob.glob(f\"{preprocess_dir}/*.jpg\")\n",
    "\n",
    "height, width, channels = io.imread(files[0]).shape\n",
    "data_matrix = np.zeros((len(files), height * width * channels))\n",
    "for i, f in enumerate(files):\n",
    "    data_matrix[i, :] = io.imread(f).flatten()"
   ]
  },
  {
   "attachments": {},
   "cell_type": "markdown",
   "metadata": {},
   "source": [
    "\n",
    "## Compute and visualize a mean cat\n"
   ]
  },
  {
   "attachments": {},
   "cell_type": "markdown",
   "metadata": {},
   "source": [
    "\n",
    "**Exercise 3:** *Compute the average cat.*"
   ]
  },
  {
   "cell_type": "code",
   "execution_count": null,
   "metadata": {},
   "outputs": [],
   "source": [
    "average_cat = np.mean(data_matrix, axis=0)"
   ]
  },
  {
   "cell_type": "markdown",
   "metadata": {},
   "source": [
    "\n",
    "**Exercise 4:** *Visualize the Mean Cat* \n"
   ]
  },
  {
   "cell_type": "code",
   "execution_count": null,
   "metadata": {},
   "outputs": [],
   "source": [
    "average_cat_img = create_u_byte_image_from_vector(average_cat, height, width, channels)\n",
    "fig, ax = plt.subplots(1, 1, figsize=(6, 6))\n",
    "plt.imshow(average_cat_img)\n",
    "ax.set_title(\"Mean cat\")\n",
    "ax.set_axis_off()\n",
    "plt.show()"
   ]
  },
  {
   "attachments": {},
   "cell_type": "markdown",
   "metadata": {},
   "source": [
    "\n",
    "## Find a missing cat or a cat that looks like it (using image comparison)"
   ]
  },
  {
   "cell_type": "markdown",
   "metadata": {},
   "source": [
    "**Exercise 5:** *Decide that you quickly buy a new cat that looks very much like the missing cat - so nobody notices* \n"
   ]
  },
  {
   "cell_type": "code",
   "execution_count": null,
   "metadata": {},
   "outputs": [],
   "source": [
    "# :)"
   ]
  },
  {
   "attachments": {},
   "cell_type": "markdown",
   "metadata": {},
   "source": [
    "**Exercise 6:** Use the preprocess_one_cat function to preprocess the photo of the poor missing cat\n"
   ]
  },
  {
   "cell_type": "code",
   "execution_count": null,
   "metadata": {},
   "outputs": [],
   "source": [
    "preprocess_one_cat()\n",
    "# First image is the missing cat, second one the model cat \n",
    "# and the third one is the missing cat aligned and cropped\n",
    "# Now there is a new file data/MissingCatProcessed.jpg"
   ]
  },
  {
   "cell_type": "markdown",
   "metadata": {},
   "source": [
    "**Exercise 7:** *Flatten the pixel values of the missing cat so it becomes a vector of values.*\n"
   ]
  },
  {
   "cell_type": "code",
   "execution_count": null,
   "metadata": {},
   "outputs": [],
   "source": [
    "im_miss = io.imread(\"data/MissingCatProcessed.jpg\")\n",
    "im_miss_flat = im_miss.flatten()"
   ]
  },
  {
   "cell_type": "markdown",
   "metadata": {},
   "source": [
    "**Exercise 8:** *Subtract you missing cat data from all the rows in the data_matrix and for each row compute the sum of squared differences. This can for example be done by:*"
   ]
  },
  {
   "cell_type": "code",
   "execution_count": null,
   "metadata": {},
   "outputs": [],
   "source": [
    "sub_data = data_matrix - im_miss_flat\n",
    "sub_distances = np.linalg.norm(sub_data, axis=1)"
   ]
  },
  {
   "attachments": {},
   "cell_type": "markdown",
   "metadata": {},
   "source": [
    "**Exercise 9:** *Find the training cat that looks most like your missing cat by finding the cat, where the SSD is smallest. You can for example use `np.argmin`.*"
   ]
  },
  {
   "cell_type": "code",
   "execution_count": null,
   "metadata": {},
   "outputs": [],
   "source": [
    "min_idx = np.argmin(sub_distances)"
   ]
  },
  {
   "cell_type": "markdown",
   "metadata": {},
   "source": [
    "\n",
    "**Exercise 10:** *Extract the found cat from the data_matrix and use `create_u_byte_image_from_vector` to create an image that can be visualized. Did you find a good replacement cat?*\n"
   ]
  },
  {
   "cell_type": "code",
   "execution_count": null,
   "metadata": {},
   "outputs": [],
   "source": [
    "similar_cat = create_u_byte_image_from_vector(data_matrix[min_idx, :], height, width, channels)\n",
    "\n",
    "fig, ax = plt.subplots(1, 1, figsize=(6, 6))\n",
    "plt.imshow(similar_cat)\n",
    "ax.set_title(\"Similar cat\")\n",
    "ax.set_axis_off()\n",
    "plt.show()"
   ]
  },
  {
   "cell_type": "markdown",
   "metadata": {},
   "source": [
    "\n",
    "**Exercise 11:** *You can use `np.argmax` to find the cat that looks the least like the missing cat.*"
   ]
  },
  {
   "cell_type": "code",
   "execution_count": null,
   "metadata": {},
   "outputs": [],
   "source": [
    "max_idx = np.argmax(sub_distances)\n",
    "different_cat = create_u_byte_image_from_vector(data_matrix[max_idx, :], height, width, channels)\n",
    "fig, ax = plt.subplots(1, 1, figsize=(6, 6))\n",
    "plt.imshow(different_cat)\n",
    "ax.set_title(\"Different cat\")\n",
    "ax.set_axis_off()\n",
    "plt.show()"
   ]
  },
  {
   "attachments": {},
   "cell_type": "markdown",
   "metadata": {},
   "source": [
    "## Principal component analysis on the cats "
   ]
  },
  {
   "attachments": {},
   "cell_type": "markdown",
   "metadata": {},
   "source": [
    "**Exercise 12:** *Start by computing the first 50 principal components:*"
   ]
  },
  {
   "cell_type": "code",
   "execution_count": null,
   "metadata": {},
   "outputs": [],
   "source": [
    "print(\"Computing PCA\")\n",
    "cats_pca = PCA(n_components=50)\n",
    "cats_pca.fit(data_matrix)"
   ]
  },
  {
   "attachments": {},
   "cell_type": "markdown",
   "metadata": {},
   "source": [
    "**Exercise 13:** *Plot the amount of the total variation explained by each component as function of the component number.*"
   ]
  },
  {
   "cell_type": "code",
   "execution_count": null,
   "metadata": {},
   "outputs": [],
   "source": [
    "explained_variance = cats_pca.explained_variance_ratio_\n",
    "fig, ax = plt.subplots(1,2, figsize=(10,4))\n",
    "ax[0].plot(explained_variance)\n",
    "ax[0].set_ylabel(\"Ratio of explained variance\")\n",
    "ax[0].set_xlabel(\"Component number\")\n",
    "ax[1].plot(explained_variance.cumsum())\n",
    "ax[1].set_ylabel(\"Accumulative explained variance\")\n",
    "ax[1].set_xlabel(\"Number of components\")\n",
    "plt.show()"
   ]
  },
  {
   "attachments": {},
   "cell_type": "markdown",
   "metadata": {},
   "source": [
    "**Exercise 14:** *How much of the total variation is explained by the first component?*"
   ]
  },
  {
   "cell_type": "code",
   "execution_count": null,
   "metadata": {},
   "outputs": [],
   "source": [
    "print(\"The first component explains {:.2f}% of the variance\".format(explained_variance[0] * 100))"
   ]
  },
  {
   "cell_type": "markdown",
   "metadata": {},
   "source": [
    "**Exercise 15:** *Project the cat images into PCA space*:"
   ]
  },
  {
   "cell_type": "code",
   "execution_count": null,
   "metadata": {},
   "outputs": [],
   "source": [
    "components = cats_pca.transform(data_matrix)"
   ]
  },
  {
   "attachments": {},
   "cell_type": "markdown",
   "metadata": {},
   "source": [
    "**Exercise 16:** *Plot the PCA space by plotting all the cats first and second PCA coordinates in a (x, y) plot*"
   ]
  },
  {
   "cell_type": "code",
   "execution_count": null,
   "metadata": {},
   "outputs": [],
   "source": [
    "pc_1 = components[:, 0] \n",
    "pc_2 = components[:, 1]\n",
    "fig, ax = plt.subplots(1, 1, figsize=(6, 6))\n",
    "ax.plot(pc_1, pc_2, \"o\")\n",
    "ax.set_xlabel(\"PC1\")\n",
    "ax.set_ylabel(\"PC2\")\n",
    "plt.show()"
   ]
  },
  {
   "attachments": {},
   "cell_type": "markdown",
   "metadata": {},
   "source": [
    "## Cats in space\n"
   ]
  },
  {
   "cell_type": "markdown",
   "metadata": {},
   "source": [
    "### Extreme cats"
   ]
  },
  {
   "attachments": {},
   "cell_type": "markdown",
   "metadata": {},
   "source": [
    "**Exercise 17:** *Use `np.argmin` and `np.argmax` to find the ids of the cats that have extreme values in the first and second PCA coordinates. Extract the cats data from the data matrix and use `create_u_byte_image_from_vector` to visualize these cats. Also plot the PCA space where you plot the extreme cats with another marker and color.*"
   ]
  },
  {
   "cell_type": "code",
   "execution_count": null,
   "metadata": {},
   "outputs": [],
   "source": [
    "def nargmax(arr, n):\n",
    "    # Like np.argmax but returns the n largest values\n",
    "    idx = np.argpartition(arr, -n)[-n:]\n",
    "    return idx[np.argsort(arr[idx])][::-1]\n",
    "\n",
    "def nargmin(arr, n):\n",
    "    # Like np.argmin but returns the n smallest values\n",
    "    idx = np.argpartition(arr, n)[:n]\n",
    "    return idx[np.argsort(arr[idx])]\n",
    "\n",
    "def plot_pca_space_and_img(pc_idx):\n",
    "    _, ax = plt.subplots(1, 2, figsize=(6, 3))\n",
    "    ax[0].plot(pc_1, pc_2, \"o\")\n",
    "    ax[0].plot(pc_1[pc_idx], pc_2[pc_idx], \"ro\", markersize=10)\n",
    "    ax[0].set_xlabel(\"PC1\")\n",
    "    ax[0].set_ylabel(\"PC2\")\n",
    "    \n",
    "    img = create_u_byte_image_from_vector(data_matrix[pc_idx, :], height, width, channels)\n",
    "    ax[1].imshow(img)\n",
    "    ax[1].set_title(\"Cat\")\n",
    "    ax[1].set_axis_off()\n",
    "    plt.show()"
   ]
  },
  {
   "cell_type": "code",
   "execution_count": null,
   "metadata": {},
   "outputs": [],
   "source": [
    "# Check the 4 largest values of PC1\n",
    "max_pc1s = nargmax(pc_1, 4)\n",
    "for i in max_pc1s:\n",
    "    plot_pca_space_and_img(i)"
   ]
  },
  {
   "cell_type": "code",
   "execution_count": null,
   "metadata": {},
   "outputs": [],
   "source": [
    "# Check the 4 smallest values of PC1\n",
    "min_pc1s = nargmin(pc_1, 4)\n",
    "for i in min_pc1s:\n",
    "    plot_pca_space_and_img(i)"
   ]
  },
  {
   "cell_type": "code",
   "execution_count": null,
   "metadata": {},
   "outputs": [],
   "source": [
    "# Check the 4 largest values of PC2\n",
    "max_pc2s = nargmax(pc_2, 4)\n",
    "for i in max_pc2s:\n",
    "    plot_pca_space_and_img(i)"
   ]
  },
  {
   "cell_type": "code",
   "execution_count": null,
   "metadata": {},
   "outputs": [],
   "source": [
    "# Check the 4 smallest values of PC2\n",
    "min_pc2s = nargmin(pc_2, 4)\n",
    "for i in min_pc2s:\n",
    "    plot_pca_space_and_img(i)"
   ]
  },
  {
   "cell_type": "markdown",
   "metadata": {},
   "source": [
    "\n",
    "**Exercise 18:** *How do these extreme cat photo look like? Are some actually of such bad quality that they should be removed from the training set? If you remove images from the training set, then you should run the PCA again. Do this until you are satisfied with the quality of the training data.*\n"
   ]
  },
  {
   "cell_type": "code",
   "execution_count": null,
   "metadata": {},
   "outputs": [],
   "source": [
    "filtered_matrix = data_matrix.copy()\n",
    "\n",
    "# Remove the 8 largest values of PC1, 5 smallest values of PC1,\n",
    "# 5 largest values of PC2 and 5 smallest values of PC2\n",
    "max_pc1s = nargmax(pc_1, 8)\n",
    "min_pc1s = nargmin(pc_1, 5)\n",
    "max_pc2s = nargmax(pc_2, 5)\n",
    "min_pc2s = nargmin(pc_2, 5)\n",
    "\n",
    "remove_idx = np.concatenate((max_pc1s, min_pc1s, max_pc2s, min_pc2s))\n",
    "filtered_matrix = np.delete(filtered_matrix, remove_idx, axis=0)\n",
    "\n",
    "# Recompute PCA\n",
    "cats_pca = PCA(n_components=50)\n",
    "cats_pca.fit(filtered_matrix)\n",
    "components = cats_pca.transform(filtered_matrix)"
   ]
  },
  {
   "cell_type": "code",
   "execution_count": null,
   "metadata": {},
   "outputs": [],
   "source": [
    "pc_1 = components[:, 0] \n",
    "pc_2 = components[:, 1]\n",
    "fig, ax = plt.subplots(1, 1, figsize=(6, 6))\n",
    "ax.plot(pc_1, pc_2, \"o\")\n",
    "ax.set_xlabel(\"PC1\")\n",
    "ax.set_ylabel(\"PC2\")\n",
    "plt.show()"
   ]
  },
  {
   "attachments": {},
   "cell_type": "markdown",
   "metadata": {},
   "source": [
    "### The first synthesized cat\n",
    "**Exercise 19:** *Create your first fake cat using the average image and the first principal component. You should choose experiment with different weight values (w)* :"
   ]
  },
  {
   "cell_type": "code",
   "execution_count": null,
   "metadata": {},
   "outputs": [],
   "source": [
    "print(\"Maximal value of PC1: {:.8f}\".format(np.max(cats_pca.components_[0, :])))\n",
    "print(\"Minimal value of PC1: {:.8f}\".format(np.min(cats_pca.components_[0, :])))"
   ]
  },
  {
   "cell_type": "code",
   "execution_count": null,
   "metadata": {},
   "outputs": [],
   "source": [
    "w = 60000\n",
    "synth_cat = average_cat + w * cats_pca.components_[0, :]"
   ]
  },
  {
   "attachments": {},
   "cell_type": "markdown",
   "metadata": {},
   "source": [
    "**Exercise 20:** *Use `create_u_byte_image_from_vector` visualize your fake cat.*"
   ]
  },
  {
   "cell_type": "code",
   "execution_count": null,
   "metadata": {},
   "outputs": [],
   "source": [
    "synth_cat_img = create_u_byte_image_from_vector(synth_cat, height, width, channels)\n",
    "plt.imshow(synth_cat_img)\n",
    "plt.show()"
   ]
  },
  {
   "attachments": {},
   "cell_type": "markdown",
   "metadata": {},
   "source": [
    "**Exercise 21:** *Synthesize some cats, where you use both the first and second principal components and select their individual weights based on the PCA plot.*"
   ]
  },
  {
   "cell_type": "code",
   "execution_count": null,
   "metadata": {},
   "outputs": [],
   "source": [
    "print(\"Maximal value of PC2: {:.8f}\".format(np.max(cats_pca.components_[1, :])))\n",
    "print(\"Minimal value of PC2: {:.8f}\".format(np.min(cats_pca.components_[1, :])))"
   ]
  },
  {
   "cell_type": "code",
   "execution_count": null,
   "metadata": {},
   "outputs": [],
   "source": [
    "w0, w1 = 60000, 60000\n",
    "synth_cat = average_cat + w0 * cats_pca.components_[0, :] + w1 * cats_pca.components_[1, :]\n",
    "synth_cat_img = create_u_byte_image_from_vector(synth_cat, height, width, channels)\n",
    "plt.imshow(synth_cat_img)\n",
    "plt.show()"
   ]
  },
  {
   "attachments": {},
   "cell_type": "markdown",
   "metadata": {},
   "source": [
    "### The major cat variation in the data set\n"
   ]
  },
  {
   "attachments": {},
   "cell_type": "markdown",
   "metadata": {},
   "source": [
    "**Exercise 22:** *Synthesize and visualize cats that demonstrate the first three major modes of variation. Try show the average cat in the middle of a plot, with the negative sample to the left and the positive to the right. Can you recognise some visual patterns in these modes of variation?*"
   ]
  },
  {
   "cell_type": "code",
   "execution_count": null,
   "metadata": {},
   "outputs": [],
   "source": [
    "def visualize_mode_of_variation(m):\n",
    "    synth_cat_plus = average_cat + 3 * np.sqrt(cats_pca.explained_variance_[m]) * cats_pca.components_[m, :]\n",
    "    synth_cat_minus = average_cat - 3 * np.sqrt(cats_pca.explained_variance_[m]) * cats_pca.components_[m, :]\n",
    "    \n",
    "    fig, ax = plt.subplots(1, 3, figsize=(12, 4))\n",
    "    ax[0].imshow(create_u_byte_image_from_vector(synth_cat_minus, height, width, channels))\n",
    "    ax[0].set_title(\"Cat - 3$\\sigma$\")\n",
    "    ax[1].imshow(create_u_byte_image_from_vector(average_cat, height, width, channels))\n",
    "    ax[1].set_title(\"Average cat\")\n",
    "    ax[2].imshow(create_u_byte_image_from_vector(synth_cat_plus, height, width, channels))\n",
    "    ax[2].set_title(\"Cat + 3$\\sigma$\")\n",
    "    fig.suptitle(\"Mode of variation PC{}\".format(m + 1))"
   ]
  },
  {
   "cell_type": "code",
   "execution_count": null,
   "metadata": {},
   "outputs": [],
   "source": [
    "visualize_mode_of_variation(m = 0)\n",
    "visualize_mode_of_variation(m = 1)\n",
    "visualize_mode_of_variation(m = 2)\n",
    "visualize_mode_of_variation(m = 3)"
   ]
  },
  {
   "attachments": {},
   "cell_type": "markdown",
   "metadata": {},
   "source": [
    "### The Cat Synthesizer (EigenCats)\n",
    "**Exercise 23:** *Generate as many cat photos as your heart desires.*.\n"
   ]
  },
  {
   "cell_type": "code",
   "execution_count": null,
   "metadata": {},
   "outputs": [],
   "source": [
    "def random_cat_generator():\n",
    "    w = np.random.randn(50)*50000\n",
    "    w = w*np.exp(-np.arange(50)) # Decrease the influence of the higher PCs\n",
    "    synth_cat = average_cat + np.dot(w, cats_pca.components_)\n",
    "    return create_u_byte_image_from_vector(synth_cat, height, width, channels)"
   ]
  },
  {
   "cell_type": "code",
   "execution_count": null,
   "metadata": {},
   "outputs": [],
   "source": [
    "fig, ax = plt.subplots(1, 3, figsize=(12, 4))\n",
    "ax[0].imshow(random_cat_generator())\n",
    "ax[1].imshow(random_cat_generator())\n",
    "ax[2].imshow(random_cat_generator())\n",
    "plt.show()"
   ]
  },
  {
   "attachments": {},
   "cell_type": "markdown",
   "metadata": {},
   "source": [
    "## Cat identification in PCA space\n"
   ]
  },
  {
   "attachments": {},
   "cell_type": "markdown",
   "metadata": {},
   "source": [
    "**Exercise 24:** *Start by finding the PCA space coordinates of your missing cat:*\n"
   ]
  },
  {
   "cell_type": "code",
   "execution_count": null,
   "metadata": {},
   "outputs": [],
   "source": [
    "im_miss = io.imread(\"data/MissingCatProcessed.jpg\")\n",
    "im_miss_flat = im_miss.flatten()\n",
    "im_miss_flat = im_miss_flat.reshape(1, -1)\n",
    "pca_coords = cats_pca.transform(im_miss_flat)\n",
    "pca_coords = pca_coords.flatten()"
   ]
  },
  {
   "attachments": {},
   "cell_type": "markdown",
   "metadata": {},
   "source": [
    "**Exercise 25:** *Plot all the cats in PCA space using the first two dimensions. Plot your missing cat in the same plot, with another color and marker. Is it placed somewhere sensible and does it have close neighbours?*"
   ]
  },
  {
   "cell_type": "code",
   "execution_count": null,
   "metadata": {},
   "outputs": [],
   "source": [
    "components = cats_pca.transform(filtered_matrix)\n",
    "pc_1 = components[:, 0] \n",
    "pc_2 = components[:, 1]\n",
    "fig, ax = plt.subplots(1, 1, figsize=(6, 6))\n",
    "ax.plot(pc_1, pc_2, \"o\")\n",
    "ax.plot(pca_coords[0], pca_coords[1], \"ro\", label=\"Missing cat\")\n",
    "ax.set_xlabel(\"PC1\")\n",
    "ax.set_ylabel(\"PC2\")\n",
    "plt.legend()\n",
    "plt.show()"
   ]
  },
  {
   "cell_type": "markdown",
   "metadata": {},
   "source": [
    "**Exercise 26:** *Generate synthetic versions of your cat, where you change the n_components_to_use from 1 to for example 50.*"
   ]
  },
  {
   "cell_type": "code",
   "execution_count": null,
   "metadata": {},
   "outputs": [],
   "source": [
    "n_components_to_use = 10\n",
    "synth_cat = average_cat\n",
    "for idx in range(n_components_to_use):\n",
    "\tsynth_cat = synth_cat + pca_coords[idx] * cats_pca.components_[idx, :]\n",
    "\n",
    "fig, ax = plt.subplots(ncols=2, figsize=(16, 6))\n",
    "ax[0].imshow(im_miss)\n",
    "ax[0].set_title('The Real Missing Cat')\n",
    "ax[1].imshow(create_u_byte_image_from_vector(synth_cat, height, width, channels))\n",
    "ax[1].set_title('The Synthetic Missing cat')\n",
    "for a in ax:\n",
    "\ta.axis('off')\n",
    "plt.tight_layout()\n",
    "plt.show()"
   ]
  },
  {
   "attachments": {},
   "cell_type": "markdown",
   "metadata": {},
   "source": [
    "**Exercise 27:** *Find the id of the cat that has the smallest and largest distance in PCA space to your missing cat. Visualize these cats. Are they as you expected? Do you think your friends and family will notice a difference?*"
   ]
  },
  {
   "cell_type": "code",
   "execution_count": null,
   "metadata": {},
   "outputs": [],
   "source": [
    "comp_sub = components - pca_coords\n",
    "pca_distances = np.linalg.norm(comp_sub, axis=1)\n",
    "\n",
    "best_match = np.argmin(pca_distances)\n",
    "best_twin_cat = data_matrix[best_match, :]\n",
    "worst_match = np.argmax(pca_distances)\n",
    "worst_twin_cat = data_matrix[worst_match, :]\n",
    "fig, ax = plt.subplots(ncols=3, figsize=(16, 6))\n",
    "ax[0].imshow(im_miss)\n",
    "ax[0].set_title('The Real Missing Cat')\n",
    "ax[1].imshow(create_u_byte_image_from_vector(best_twin_cat, height, width, channels))\n",
    "ax[1].set_title('The Best Matching Twin Cat')\n",
    "ax[2].imshow(create_u_byte_image_from_vector(worst_twin_cat, height, width, channels))\n",
    "ax[2].set_title('The Worst Matching Twin Cat')\n",
    "for a in ax:\n",
    "    a.axis('off')\n",
    "plt.tight_layout()\n",
    "plt.show()"
   ]
  },
  {
   "cell_type": "markdown",
   "metadata": {},
   "source": [
    "\n",
    "**Exercise 28:** *Find the ids of and visualize the 5 closest cats in PCA space. Do they look like your cat?*\n",
    "\n"
   ]
  },
  {
   "cell_type": "code",
   "execution_count": null,
   "metadata": {},
   "outputs": [],
   "source": [
    "n_best = 5\n",
    "best = np.argpartition(pca_distances, n_best)\n",
    "fig, ax = plt.subplots(ncols=n_best, figsize=(16, 4))\n",
    "for i in range(n_best):\n",
    "    candidate_twin_cat = data_matrix[best[i], :]\n",
    "    ax[i].imshow(create_u_byte_image_from_vector(candidate_twin_cat, height, width, channels))\n",
    "    ax[i].axis('off')\n",
    "\n",
    "fig.suptitle(f\"The {n_best} most similar cats\")\n",
    "plt.tight_layout()\n",
    "plt.show()\n"
   ]
  }
 ],
 "metadata": {
  "kernelspec": {
   "display_name": "course02502",
   "language": "python",
   "name": "python3"
  },
  "language_info": {
   "codemirror_mode": {
    "name": "ipython",
    "version": 3
   },
   "file_extension": ".py",
   "mimetype": "text/x-python",
   "name": "python",
   "nbconvert_exporter": "python",
   "pygments_lexer": "ipython3",
   "version": "3.11.0"
  },
  "orig_nbformat": 4
 },
 "nbformat": 4,
 "nbformat_minor": 2
}
